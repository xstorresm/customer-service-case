{
 "cells": [
  {
   "cell_type": "markdown",
   "id": "4451d624",
   "metadata": {},
   "source": [
    "##  <center> Airnline: xxxxxxxxxxxxxxxxxxx</center>"
   ]
  },
  {
   "cell_type": "markdown",
   "id": "25c3aec9",
   "metadata": {},
   "source": [
    "## Part A. Regression Modelling Requirement"
   ]
  },
  {
   "cell_type": "markdown",
   "id": "64c52bb8",
   "metadata": {},
   "source": [
    "## 1. Team Members\n"
   ]
  },
  {
   "cell_type": "markdown",
   "id": "e57dd2e3",
   "metadata": {},
   "source": [
    "## Part A.\n",
    "\n",
    "For this part the required  csv file is:\n",
    "1. Invistico_Airline.csv\n"
   ]
  },
  {
   "cell_type": "markdown",
   "id": "f977b72d",
   "metadata": {},
   "source": [
    "## 2. Library import and data loading"
   ]
  },
  {
   "cell_type": "code",
   "execution_count": 2,
   "id": "a145cbb4",
   "metadata": {},
   "outputs": [],
   "source": [
    "\n",
    "import pandas  as pd\n",
    "import numpy as np\n",
    "import seaborn as sns\n",
    "import matplotlib.pyplot as plt\n",
    "from sklearn.preprocessing import PolynomialFeatures\n",
    "from sklearn.model_selection import train_test_split\n",
    "from sklearn.linear_model import Ridge, Lasso\n",
    "from sklearn.preprocessing import StandardScaler"
   ]
  },
  {
   "cell_type": "markdown",
   "id": "c691d5cc",
   "metadata": {},
   "source": [
    "### Handling   missing values "
   ]
  },
  {
   "cell_type": "code",
   "execution_count": 3,
   "id": "df45924f",
   "metadata": {},
   "outputs": [
    {
     "name": "stdout",
     "output_type": "stream",
     "text": [
      "<class 'pandas.core.frame.DataFrame'>\n",
      "RangeIndex: 129487 entries, 0 to 129486\n",
      "Data columns (total 23 columns):\n",
      " #   Column                             Non-Null Count   Dtype  \n",
      "---  ------                             --------------   -----  \n",
      " 0   satisfaction                       129487 non-null  object \n",
      " 1   Gender                             129487 non-null  object \n",
      " 2   Customer Type                      129487 non-null  object \n",
      " 3   Age                                129487 non-null  int64  \n",
      " 4   Type of Travel                     129487 non-null  object \n",
      " 5   Class                              129487 non-null  object \n",
      " 6   Flight Distance                    129487 non-null  int64  \n",
      " 7   Seat comfort                       129487 non-null  int64  \n",
      " 8   Departure/Arrival time convenient  129487 non-null  int64  \n",
      " 9   Food and drink                     129487 non-null  int64  \n",
      " 10  Gate location                      129487 non-null  int64  \n",
      " 11  Inflight wifi service              129487 non-null  int64  \n",
      " 12  Inflight entertainment             129487 non-null  int64  \n",
      " 13  Online support                     129487 non-null  int64  \n",
      " 14  Ease of Online booking             129487 non-null  int64  \n",
      " 15  On-board service                   129487 non-null  int64  \n",
      " 16  Leg room service                   129487 non-null  int64  \n",
      " 17  Baggage handling                   129487 non-null  int64  \n",
      " 18  Checkin service                    129487 non-null  int64  \n",
      " 19  Cleanliness                        129487 non-null  int64  \n",
      " 20  Online boarding                    129487 non-null  int64  \n",
      " 21  Departure Delay in Minutes         129487 non-null  int64  \n",
      " 22  Arrival Delay in Minutes           129487 non-null  float64\n",
      "dtypes: float64(1), int64(17), object(5)\n",
      "memory usage: 22.7+ MB\n"
     ]
    }
   ],
   "source": [
    "\n",
    "data=pd.read_csv('Invistico_Airline.csv') \n",
    "df=pd.DataFrame(data)\n",
    "\n",
    "#Remove all rows that contain NaN values in the original Dataframe\n",
    "df.dropna(inplace=True)\n",
    "\n",
    "#Reset the index for the original DataFrame. \n",
    "\n",
    "df.reset_index(drop=True,inplace=True)\n",
    "df.info()\n"
   ]
  },
  {
   "cell_type": "markdown",
   "id": "7ab3b5c0",
   "metadata": {},
   "source": [
    "## 3. Data Analysis, Preparation and Wrangling"
   ]
  },
  {
   "cell_type": "markdown",
   "id": "470eb67b",
   "metadata": {},
   "source": [
    "### Handling currency symbols and comma format"
   ]
  },
  {
   "cell_type": "markdown",
   "id": "469f6246",
   "metadata": {},
   "source": [
    "### Handling non valid column-names"
   ]
  },
  {
   "cell_type": "markdown",
   "id": "9b71338f",
   "metadata": {},
   "source": [
    "### Handling missing values in columns: fuel_type"
   ]
  },
  {
   "cell_type": "markdown",
   "id": "3e14d28a",
   "metadata": {},
   "source": [
    "### Handling missing values and comma format in columns: mileage"
   ]
  },
  {
   "cell_type": "markdown",
   "id": "7ecd2062",
   "metadata": {},
   "source": [
    "### Handling missing values and different value standard in columns: engine_size"
   ]
  },
  {
   "cell_type": "markdown",
   "id": "22835160",
   "metadata": {},
   "source": [
    "### Handling wrong data type: year"
   ]
  },
  {
   "cell_type": "markdown",
   "id": "e66864af",
   "metadata": {},
   "source": [
    "###  Handling unneeded columns"
   ]
  },
  {
   "cell_type": "markdown",
   "id": "d4efc5c4",
   "metadata": {},
   "source": [
    "### Handling categorical data"
   ]
  },
  {
   "cell_type": "markdown",
   "id": "45f6d619",
   "metadata": {},
   "source": [
    "### Saving the cleaned data into csv"
   ]
  },
  {
   "cell_type": "markdown",
   "id": "9f7b2f02",
   "metadata": {},
   "source": [
    "## 4. Exploratory Data analysis and Visulization "
   ]
  },
  {
   "cell_type": "code",
   "execution_count": 6,
   "id": "7bb203d4",
   "metadata": {},
   "outputs": [],
   "source": [
    "#df.corr()"
   ]
  },
  {
   "cell_type": "code",
   "execution_count": 5,
   "id": "a6fa8ad7",
   "metadata": {},
   "outputs": [
    {
     "data": {
      "text/html": [
       "<div>\n",
       "<style scoped>\n",
       "    .dataframe tbody tr th:only-of-type {\n",
       "        vertical-align: middle;\n",
       "    }\n",
       "\n",
       "    .dataframe tbody tr th {\n",
       "        vertical-align: top;\n",
       "    }\n",
       "\n",
       "    .dataframe thead th {\n",
       "        text-align: right;\n",
       "    }\n",
       "</style>\n",
       "<table border=\"1\" class=\"dataframe\">\n",
       "  <thead>\n",
       "    <tr style=\"text-align: right;\">\n",
       "      <th></th>\n",
       "      <th>satisfaction</th>\n",
       "      <th>Gender</th>\n",
       "      <th>Customer Type</th>\n",
       "      <th>Age</th>\n",
       "      <th>Type of Travel</th>\n",
       "      <th>Class</th>\n",
       "      <th>Flight Distance</th>\n",
       "      <th>Seat comfort</th>\n",
       "      <th>Departure/Arrival time convenient</th>\n",
       "      <th>Food and drink</th>\n",
       "      <th>...</th>\n",
       "      <th>Online support</th>\n",
       "      <th>Ease of Online booking</th>\n",
       "      <th>On-board service</th>\n",
       "      <th>Leg room service</th>\n",
       "      <th>Baggage handling</th>\n",
       "      <th>Checkin service</th>\n",
       "      <th>Cleanliness</th>\n",
       "      <th>Online boarding</th>\n",
       "      <th>Departure Delay in Minutes</th>\n",
       "      <th>Arrival Delay in Minutes</th>\n",
       "    </tr>\n",
       "  </thead>\n",
       "  <tbody>\n",
       "    <tr>\n",
       "      <th>129482</th>\n",
       "      <td>satisfied</td>\n",
       "      <td>Female</td>\n",
       "      <td>disloyal Customer</td>\n",
       "      <td>29</td>\n",
       "      <td>Personal Travel</td>\n",
       "      <td>Eco</td>\n",
       "      <td>1731</td>\n",
       "      <td>5</td>\n",
       "      <td>5</td>\n",
       "      <td>5</td>\n",
       "      <td>...</td>\n",
       "      <td>2</td>\n",
       "      <td>2</td>\n",
       "      <td>3</td>\n",
       "      <td>3</td>\n",
       "      <td>4</td>\n",
       "      <td>4</td>\n",
       "      <td>4</td>\n",
       "      <td>2</td>\n",
       "      <td>0</td>\n",
       "      <td>0.0</td>\n",
       "    </tr>\n",
       "    <tr>\n",
       "      <th>129483</th>\n",
       "      <td>dissatisfied</td>\n",
       "      <td>Male</td>\n",
       "      <td>disloyal Customer</td>\n",
       "      <td>63</td>\n",
       "      <td>Personal Travel</td>\n",
       "      <td>Business</td>\n",
       "      <td>2087</td>\n",
       "      <td>2</td>\n",
       "      <td>3</td>\n",
       "      <td>2</td>\n",
       "      <td>...</td>\n",
       "      <td>1</td>\n",
       "      <td>3</td>\n",
       "      <td>2</td>\n",
       "      <td>3</td>\n",
       "      <td>3</td>\n",
       "      <td>1</td>\n",
       "      <td>2</td>\n",
       "      <td>1</td>\n",
       "      <td>174</td>\n",
       "      <td>172.0</td>\n",
       "    </tr>\n",
       "    <tr>\n",
       "      <th>129484</th>\n",
       "      <td>dissatisfied</td>\n",
       "      <td>Male</td>\n",
       "      <td>disloyal Customer</td>\n",
       "      <td>69</td>\n",
       "      <td>Personal Travel</td>\n",
       "      <td>Eco</td>\n",
       "      <td>2320</td>\n",
       "      <td>3</td>\n",
       "      <td>0</td>\n",
       "      <td>3</td>\n",
       "      <td>...</td>\n",
       "      <td>2</td>\n",
       "      <td>4</td>\n",
       "      <td>4</td>\n",
       "      <td>3</td>\n",
       "      <td>4</td>\n",
       "      <td>2</td>\n",
       "      <td>3</td>\n",
       "      <td>2</td>\n",
       "      <td>155</td>\n",
       "      <td>163.0</td>\n",
       "    </tr>\n",
       "    <tr>\n",
       "      <th>129485</th>\n",
       "      <td>dissatisfied</td>\n",
       "      <td>Male</td>\n",
       "      <td>disloyal Customer</td>\n",
       "      <td>66</td>\n",
       "      <td>Personal Travel</td>\n",
       "      <td>Eco</td>\n",
       "      <td>2450</td>\n",
       "      <td>3</td>\n",
       "      <td>2</td>\n",
       "      <td>3</td>\n",
       "      <td>...</td>\n",
       "      <td>2</td>\n",
       "      <td>3</td>\n",
       "      <td>3</td>\n",
       "      <td>2</td>\n",
       "      <td>3</td>\n",
       "      <td>2</td>\n",
       "      <td>1</td>\n",
       "      <td>2</td>\n",
       "      <td>193</td>\n",
       "      <td>205.0</td>\n",
       "    </tr>\n",
       "    <tr>\n",
       "      <th>129486</th>\n",
       "      <td>dissatisfied</td>\n",
       "      <td>Female</td>\n",
       "      <td>disloyal Customer</td>\n",
       "      <td>38</td>\n",
       "      <td>Personal Travel</td>\n",
       "      <td>Eco</td>\n",
       "      <td>4307</td>\n",
       "      <td>3</td>\n",
       "      <td>4</td>\n",
       "      <td>3</td>\n",
       "      <td>...</td>\n",
       "      <td>3</td>\n",
       "      <td>4</td>\n",
       "      <td>5</td>\n",
       "      <td>5</td>\n",
       "      <td>5</td>\n",
       "      <td>3</td>\n",
       "      <td>3</td>\n",
       "      <td>3</td>\n",
       "      <td>185</td>\n",
       "      <td>186.0</td>\n",
       "    </tr>\n",
       "  </tbody>\n",
       "</table>\n",
       "<p>5 rows × 23 columns</p>\n",
       "</div>"
      ],
      "text/plain": [
       "        satisfaction  Gender      Customer Type  Age   Type of Travel  \\\n",
       "129482     satisfied  Female  disloyal Customer   29  Personal Travel   \n",
       "129483  dissatisfied    Male  disloyal Customer   63  Personal Travel   \n",
       "129484  dissatisfied    Male  disloyal Customer   69  Personal Travel   \n",
       "129485  dissatisfied    Male  disloyal Customer   66  Personal Travel   \n",
       "129486  dissatisfied  Female  disloyal Customer   38  Personal Travel   \n",
       "\n",
       "           Class  Flight Distance  Seat comfort  \\\n",
       "129482       Eco             1731             5   \n",
       "129483  Business             2087             2   \n",
       "129484       Eco             2320             3   \n",
       "129485       Eco             2450             3   \n",
       "129486       Eco             4307             3   \n",
       "\n",
       "        Departure/Arrival time convenient  Food and drink  ...  \\\n",
       "129482                                  5               5  ...   \n",
       "129483                                  3               2  ...   \n",
       "129484                                  0               3  ...   \n",
       "129485                                  2               3  ...   \n",
       "129486                                  4               3  ...   \n",
       "\n",
       "        Online support  Ease of Online booking  On-board service  \\\n",
       "129482               2                       2                 3   \n",
       "129483               1                       3                 2   \n",
       "129484               2                       4                 4   \n",
       "129485               2                       3                 3   \n",
       "129486               3                       4                 5   \n",
       "\n",
       "        Leg room service  Baggage handling  Checkin service  Cleanliness  \\\n",
       "129482                 3                 4                4            4   \n",
       "129483                 3                 3                1            2   \n",
       "129484                 3                 4                2            3   \n",
       "129485                 2                 3                2            1   \n",
       "129486                 5                 5                3            3   \n",
       "\n",
       "        Online boarding  Departure Delay in Minutes  Arrival Delay in Minutes  \n",
       "129482                2                           0                       0.0  \n",
       "129483                1                         174                     172.0  \n",
       "129484                2                         155                     163.0  \n",
       "129485                2                         193                     205.0  \n",
       "129486                3                         185                     186.0  \n",
       "\n",
       "[5 rows x 23 columns]"
      ]
     },
     "execution_count": 5,
     "metadata": {},
     "output_type": "execute_result"
    }
   ],
   "source": [
    "df.tail()"
   ]
  },
  {
   "cell_type": "markdown",
   "id": "ba7000aa",
   "metadata": {},
   "source": [
    "### Looking for correlations"
   ]
  },
  {
   "cell_type": "markdown",
   "id": "47e19300",
   "metadata": {},
   "source": [
    "For our analysis, we will exclude columns with binary values. In such cases, we will seek correlations between price and year, price and mileage, and price and engine size.\n"
   ]
  },
  {
   "cell_type": "markdown",
   "id": "1d62ba6b",
   "metadata": {},
   "source": [
    "###   Relation Price year"
   ]
  },
  {
   "cell_type": "code",
   "execution_count": null,
   "id": "a5d2df18",
   "metadata": {},
   "outputs": [],
   "source": [
    "sns.pairplot(df, height=2.5)\n",
    "plt.tight_layout()"
   ]
  },
  {
   "cell_type": "code",
   "execution_count": 62,
   "id": "0a76e92d",
   "metadata": {},
   "outputs": [
    {
     "data": {
      "image/png": "[encoded data removed]",
      "text/plain": [
       "<Figure size 640x480 with 1 Axes>"
      ]
     },
     "metadata": {},
     "output_type": "display_data"
    }
   ],
   "source": [
    "sns.set(font_scale=1.0)\n",
    "sns.heatmap(data=df[['ph','Hardness', 'Solids', 'Chloramines','Sulfate', 'Conductivity',\n",
    "                     'Organic_carbon', 'Trihalomethanes','Turbidity','Potability']].corr(), \n",
    "            annot=True, \n",
    "            cbar=False,\n",
    "            square=True,\n",
    "            fmt ='.2f',\n",
    "            annot_kws={'size':10},\n",
    "            yticklabels=df.columns,\n",
    "            xticklabels=df.columns);"
   ]
  },
  {
   "cell_type": "code",
   "execution_count": 63,
   "id": "aa5f3b18",
   "metadata": {},
   "outputs": [
    {
     "data": {
      "text/plain": [
       "(2011, 9)"
      ]
     },
     "execution_count": 63,
     "metadata": {},
     "output_type": "execute_result"
    }
   ],
   "source": [
    "from sklearn.model_selection import train_test_split\n",
    "\n",
    "features = df.drop(['Potability'], axis=1)\n",
    "response = df['Potability']\n",
    "features.shape"
   ]
  },
  {
   "cell_type": "code",
   "execution_count": null,
   "id": "d9eb8b76",
   "metadata": {},
   "outputs": [],
   "source": []
  },
  {
   "cell_type": "code",
   "execution_count": null,
   "id": "2e0cc2e3",
   "metadata": {},
   "outputs": [],
   "source": []
  },
  {
   "cell_type": "code",
   "execution_count": null,
   "id": "c9132802",
   "metadata": {},
   "outputs": [],
   "source": []
  },
  {
   "cell_type": "markdown",
   "id": "6652d710",
   "metadata": {},
   "source": [
    "#### Creatin a table for R2 results"
   ]
  },
  {
   "cell_type": "code",
   "execution_count": 51,
   "id": "1c747f53",
   "metadata": {},
   "outputs": [],
   "source": [
    "method = []\n",
    "r2_list = []\n",
    "rmse_list = []"
   ]
  },
  {
   "cell_type": "markdown",
   "id": "494ad487",
   "metadata": {},
   "source": [
    "##   6. Linear Regression Model"
   ]
  },
  {
   "cell_type": "markdown",
   "id": "663cbdda",
   "metadata": {},
   "source": [
    "### Split Dataset "
   ]
  },
  {
   "cell_type": "code",
   "execution_count": 64,
   "id": "e14e8607",
   "metadata": {},
   "outputs": [],
   "source": [
    "from sklearn.model_selection import train_test_split\n",
    "response = df['Potability']\n",
    "features = df.drop('Potability', axis=1)\n",
    "\n",
    "X_train, X_test, Y_train, Y_test = train_test_split(features, \n",
    "                                                   response,\n",
    "                                                   test_size =0.1, \n",
    "                                                   random_state= 42)"
   ]
  },
  {
   "cell_type": "markdown",
   "id": "6bcf7996",
   "metadata": {},
   "source": [
    "### Trainig and Testing "
   ]
  },
  {
   "cell_type": "code",
   "execution_count": 65,
   "id": "24d47283",
   "metadata": {},
   "outputs": [],
   "source": [
    "from sklearn.linear_model import LinearRegression\n",
    "\n",
    "\n",
    "model= LinearRegression()\n",
    "\n",
    "#Training model\n",
    "model.fit(X_train, Y_train )\n",
    "\n",
    "#Making predictions \n",
    "predictions = model.predict(X_test)"
   ]
  },
  {
   "cell_type": "markdown",
   "id": "c728d48c",
   "metadata": {},
   "source": [
    "### Performance"
   ]
  },
  {
   "cell_type": "code",
   "execution_count": 66,
   "id": "a780f403",
   "metadata": {},
   "outputs": [
    {
     "name": "stdout",
     "output_type": "stream",
     "text": [
      "R2 in the train set is  0.004956056115681173\n",
      "R2 in the test set is  -0.013957578014663241\n",
      "RMSE in the test set is mse 0.4913880883242273\n"
     ]
    }
   ],
   "source": [
    "from sklearn.metrics import mean_squared_error\n",
    "\n",
    "r2_train = model.score(X_train, Y_train)\n",
    "print(\"R2 in the train set is \", r2_train)\n",
    "r2= model.score(X_test, Y_test)\n",
    "print(\"R2 in the test set is \", r2)\n",
    "\n",
    "rmse= mean_squared_error(Y_test, predictions)**0.5\n",
    "print(\"RMSE in the test set is mse\", rmse )\n",
    "\n",
    "method.append('Simple')\n",
    "r2_list.append(r2)\n",
    "rmse_list.append(rmse)"
   ]
  },
  {
   "cell_type": "markdown",
   "id": "66901c68",
   "metadata": {},
   "source": [
    "### Analysis of Linear Regression Results\n",
    "\n",
    "In general, the R^2 values indicate the presence of a robust model. Furthermore, it is worth noting that a slightly higher R^2 value is achieved with the training data (0.78807) compared to the test data (0.78628). However, the difference between both ratios is relatively small. This observation suggests that the model demonstrates consistent performance on both the data it was trained on and new, unseen data."
   ]
  },
  {
   "cell_type": "code",
   "execution_count": 67,
   "id": "33f6d927",
   "metadata": {},
   "outputs": [
    {
     "data": {
      "image/png": "[encoded data removed]",
      "text/plain": [
       "<Figure size 640x480 with 1 Axes>"
      ]
     },
     "metadata": {},
     "output_type": "display_data"
    }
   ],
   "source": [
    "actual_value = Y_test\n",
    "plt.scatter(predictions, actual_value, alpha=0.6)\n",
    "plt.xlabel(\"Predicted value\")\n",
    "plt.ylabel(\"Actual value\")\n",
    "plt.title(\"Linear Regression Model\")\n",
    "plt.show()"
   ]
  },
  {
   "cell_type": "code",
   "execution_count": 68,
   "id": "b3cf58d7",
   "metadata": {},
   "outputs": [
    {
     "data": {
      "text/html": [
       "<div>\n",
       "<style scoped>\n",
       "    .dataframe tbody tr th:only-of-type {\n",
       "        vertical-align: middle;\n",
       "    }\n",
       "\n",
       "    .dataframe tbody tr th {\n",
       "        vertical-align: top;\n",
       "    }\n",
       "\n",
       "    .dataframe thead th {\n",
       "        text-align: right;\n",
       "    }\n",
       "</style>\n",
       "<table border=\"1\" class=\"dataframe\">\n",
       "  <thead>\n",
       "    <tr style=\"text-align: right;\">\n",
       "      <th></th>\n",
       "      <th>Feature</th>\n",
       "      <th>Coefficients</th>\n",
       "    </tr>\n",
       "  </thead>\n",
       "  <tbody>\n",
       "    <tr>\n",
       "      <th>0</th>\n",
       "      <td>ph</td>\n",
       "      <td>0.006876617424760324</td>\n",
       "    </tr>\n",
       "    <tr>\n",
       "      <th>1</th>\n",
       "      <td>Hardness</td>\n",
       "      <td>1.2236331924885942e-05</td>\n",
       "    </tr>\n",
       "    <tr>\n",
       "      <th>2</th>\n",
       "      <td>Solids</td>\n",
       "      <td>2.001375343573303e-06</td>\n",
       "    </tr>\n",
       "    <tr>\n",
       "      <th>3</th>\n",
       "      <td>Chloramines</td>\n",
       "      <td>0.008131712168040973</td>\n",
       "    </tr>\n",
       "    <tr>\n",
       "      <th>4</th>\n",
       "      <td>Sulfate</td>\n",
       "      <td>-0.00010653590056657495</td>\n",
       "    </tr>\n",
       "    <tr>\n",
       "      <th>5</th>\n",
       "      <td>Conductivity</td>\n",
       "      <td>-0.00019941458294437926</td>\n",
       "    </tr>\n",
       "    <tr>\n",
       "      <th>6</th>\n",
       "      <td>Organic_carbon</td>\n",
       "      <td>-0.002260048346946286</td>\n",
       "    </tr>\n",
       "    <tr>\n",
       "      <th>7</th>\n",
       "      <td>Trihalomethanes</td>\n",
       "      <td>0.00045273119336728464</td>\n",
       "    </tr>\n",
       "    <tr>\n",
       "      <th>8</th>\n",
       "      <td>Turbidity</td>\n",
       "      <td>0.019816165056034</td>\n",
       "    </tr>\n",
       "  </tbody>\n",
       "</table>\n",
       "</div>"
      ],
      "text/plain": [
       "           Feature             Coefficients\n",
       "0               ph     0.006876617424760324\n",
       "1         Hardness   1.2236331924885942e-05\n",
       "2           Solids    2.001375343573303e-06\n",
       "3      Chloramines     0.008131712168040973\n",
       "4          Sulfate  -0.00010653590056657495\n",
       "5     Conductivity  -0.00019941458294437926\n",
       "6   Organic_carbon    -0.002260048346946286\n",
       "7  Trihalomethanes   0.00045273119336728464\n",
       "8        Turbidity        0.019816165056034"
      ]
     },
     "execution_count": 68,
     "metadata": {},
     "output_type": "execute_result"
    }
   ],
   "source": [
    "feat = list(X_train.columns)\n",
    "# coefficients are obtained from the linear regression model, Transpose is used to transpose the matrix\n",
    "coef= model.coef_.transpose() \n",
    "\n",
    "# In this line, the list of features (feat) and the coefficient matrix (coef) are combined into a table\n",
    "coef_table= np.vstack((feat, coef)).T \n",
    "\n",
    "# the resulting table becomes a DataFrame\n",
    "df_coef= pd.DataFrame(coef_table, columns= ['Feature', 'Coefficients'])\n",
    "df_coef"
   ]
  },
  {
   "cell_type": "markdown",
   "id": "2d4e8c0b",
   "metadata": {},
   "source": [
    "## 7. Linear Regression  with  Rigde"
   ]
  },
  {
   "cell_type": "code",
   "execution_count": 70,
   "id": "e343fef3",
   "metadata": {},
   "outputs": [],
   "source": [
    "#1.Split Data set \n",
    "response = df['Potability']\n",
    "features = df.drop('Potability', axis=1)\n",
    "\n",
    "xtrain, xtest, ytrain, ytest = train_test_split(features, \\\n",
    "                                                response, \\\n",
    "                                                test_size=0.1, \n",
    "                                                random_state=42)"
   ]
  },
  {
   "cell_type": "code",
   "execution_count": 71,
   "id": "1abcb19e",
   "metadata": {},
   "outputs": [
    {
     "data": {
      "text/plain": [
       "array([1.00000000e+06, 3.79269019e+05, 1.43844989e+05, 5.45559478e+04,\n",
       "       2.06913808e+04, 7.84759970e+03, 2.97635144e+03, 1.12883789e+03,\n",
       "       4.28133240e+02, 1.62377674e+02, 6.15848211e+01, 2.33572147e+01,\n",
       "       8.85866790e+00, 3.35981829e+00, 1.27427499e+00, 4.83293024e-01,\n",
       "       1.83298071e-01, 6.95192796e-02, 2.63665090e-02, 1.00000000e-02])"
      ]
     },
     "execution_count": 71,
     "metadata": {},
     "output_type": "execute_result"
    }
   ],
   "source": [
    "# 2. Create a list of aplhas\n",
    "alphas = 10**np.linspace(6, -2, 20)\n",
    "alphas"
   ]
  },
  {
   "cell_type": "code",
   "execution_count": 72,
   "id": "fc83b381",
   "metadata": {},
   "outputs": [
    {
     "data": {
      "text/plain": [
       "(20, 9)"
      ]
     },
     "execution_count": 72,
     "metadata": {},
     "output_type": "execute_result"
    }
   ],
   "source": [
    "ridge = Ridge()\n",
    "coefs = []\n",
    "\n",
    "for a in alphas:\n",
    "    ridge.set_params(alpha = a)\n",
    "    ridge.fit(features,response)\n",
    "    coefs.append(ridge.coef_)\n",
    "\n",
    "np.shape(coefs)"
   ]
  },
  {
   "cell_type": "code",
   "execution_count": 37,
   "id": "458bddf2",
   "metadata": {},
   "outputs": [
    {
     "data": {
      "text/plain": [
       "Text(0, 0.5, 'weights')"
      ]
     },
     "execution_count": 37,
     "metadata": {},
     "output_type": "execute_result"
    },
    {
     "data": {
      "image/png": "[encoded data removed]",
      "text/plain": [
       "<Figure size 640x480 with 1 Axes>"
      ]
     },
     "metadata": {},
     "output_type": "display_data"
    }
   ],
   "source": [
    "plt.plot(alphas, coefs)\n",
    "ax = plt.gca()\n",
    "ax.set_xscale('log')\n",
    "plt.axis('tight')\n",
    "plt.xlabel('alpha')\n",
    "plt.ylabel('weights')"
   ]
  },
  {
   "cell_type": "code",
   "execution_count": 73,
   "id": "057ace22",
   "metadata": {},
   "outputs": [
    {
     "name": "stdout",
     "output_type": "stream",
     "text": [
      "             Alpha  R2 Train   R2 Test      RMSE\n",
      "0   1000000.000000  0.002458 -0.005097  0.489236\n",
      "1    379269.019073  0.002565 -0.006007  0.489458\n",
      "2    143844.988829  0.002685 -0.006592  0.489600\n",
      "3     54555.947812  0.002878 -0.006983  0.489695\n",
      "4     20691.380811  0.003215 -0.007387  0.489793\n",
      "5      7847.599704  0.003703 -0.008075  0.489961\n",
      "6      2976.351442  0.004238 -0.009236  0.490243\n",
      "7      1128.837892  0.004654 -0.010758  0.490612\n",
      "8       428.133240  0.004869 -0.012192  0.490960\n",
      "9       162.377674  0.004938 -0.013143  0.491191\n",
      "10       61.584821  0.004953 -0.013620  0.491306\n",
      "11       23.357215  0.004956 -0.013825  0.491356\n",
      "12        8.858668  0.004956 -0.013907  0.491376\n",
      "13        3.359818  0.004956 -0.013938  0.491383\n",
      "14        1.274275  0.004956 -0.013950  0.491386\n",
      "15        0.483293  0.004956 -0.013955  0.491387\n",
      "16        0.183298  0.004956 -0.013957  0.491388\n",
      "17        0.069519  0.004956 -0.013957  0.491388\n",
      "18        0.026367  0.004956 -0.013957  0.491388\n",
      "19        0.010000  0.004956 -0.013958  0.491388\n",
      "0\n"
     ]
    }
   ],
   "source": [
    "#Findinfg the best alpha\n",
    "\n",
    "rmse_test_list = []\n",
    "r2_test_list = []\n",
    "r2_train_list = []\n",
    "\n",
    "best_r2_test = 0\n",
    "best_alpha = 0\n",
    "\n",
    "\n",
    "\n",
    "for a in alphas:\n",
    "    ridge = Ridge(alpha = a, max_iter=1000)\n",
    "    ridge.fit(xtrain, ytrain)\n",
    "    pred = ridge.predict(xtest)\n",
    "    \n",
    "    r2_train = ridge.score(xtrain,ytrain)\n",
    "    r2_train_list.append(r2_train)\n",
    "    \n",
    "    r2_test = ridge.score(xtest,ytest)\n",
    "    r2_test_list.append(r2_test)\n",
    "    \n",
    "    rmse_test = mean_squared_error(ytest, pred) ** 0.5\n",
    "    rmse_test_list.append(rmse_test)\n",
    "    \n",
    "    if r2_test > best_r2_test:\n",
    "        best_r2_test = r2_test\n",
    "        best_alpha = a\n",
    "    \n",
    "\n",
    "ridge_result = np.vstack((alphas, \\\n",
    "                         r2_train_list, \\\n",
    "                         r2_test_list, \\\n",
    "                         rmse_test_list)).T\n",
    "ridge_df = pd.DataFrame(ridge_result, \\\n",
    "                            columns=['Alpha', 'R2 Train', 'R2 Test', 'RMSE'])\n",
    "\n",
    "print(ridge_df)\n",
    "print(best_alpha)"
   ]
  },
  {
   "cell_type": "code",
   "execution_count": 74,
   "id": "b8c1f4c7",
   "metadata": {},
   "outputs": [
    {
     "name": "stdout",
     "output_type": "stream",
     "text": [
      "R^2 train: 0.004956056115681173\n",
      "R^2 test: -0.013957578014662797\n",
      "RMSE test: 0.4913880883242272\n",
      "\n",
      "ph                 0.006877\n",
      "Hardness           0.000012\n",
      "Solids             0.000002\n",
      "Chloramines        0.008132\n",
      "Sulfate           -0.000107\n",
      "Conductivity      -0.000199\n",
      "Organic_carbon    -0.002260\n",
      "Trihalomethanes    0.000453\n",
      "Turbidity          0.019816\n",
      "dtype: float64\n"
     ]
    }
   ],
   "source": [
    "# apply ridge correction to the model considering the  previous best alpha founded\n",
    "\n",
    "ridge = Ridge(alpha=best_alpha)\n",
    "ridge.fit(xtrain, ytrain)\n",
    "pred = ridge.predict(xtest)\n",
    "\n",
    "r2_test =ridge.score(xtest,ytest)\n",
    "r2_train = ridge.score(xtrain,ytrain)\n",
    "rmse= mean_squared_error(pred,ytest) ** 0.5\n",
    "print(\"R^2 train:\", r2_train)\n",
    "print(\"R^2 test:\", r2_test)\n",
    "print(\"RMSE test:\", rmse)\n",
    "print()\n",
    "print(pd.Series(ridge.coef_, index = features.columns))\n",
    "\n",
    "\n",
    "method.append('Ridge')\n",
    "r2_list.append(r2_test)\n",
    "rmse_list.append(rmse)"
   ]
  },
  {
   "cell_type": "markdown",
   "id": "b8f20751",
   "metadata": {},
   "source": [
    "### Analysis applying the Ridge model\n",
    "We applied Ridge to our model, resulting in a better alpha of 8.858, which allowed us to adjust the model and obtain a slight increase in R^2 of the test data from 0.78628 to 0.78637. The RMSE also slightly decreases from 3309.95870 to 3309.267105. So, with these results, we can say that it helps reduce overfitting by adding regularization to the model, and that improves the test data's predictions."
   ]
  },
  {
   "cell_type": "markdown",
   "id": "6d9d9032",
   "metadata": {},
   "source": [
    "## 8. Polynomial Regression "
   ]
  },
  {
   "cell_type": "code",
   "execution_count": 76,
   "id": "899747b9",
   "metadata": {},
   "outputs": [],
   "source": [
    "response = df['Potability']\n",
    "#especify independe variables \n",
    "features = df.drop('Potability', axis=1)\n",
    "\n",
    "X_train, X_test, Y_train, Y_test = train_test_split(features,\n",
    "                                                   response,\n",
    "                                                   test_size =0.1, \n",
    "                                                   random_state= 42)"
   ]
  },
  {
   "cell_type": "code",
   "execution_count": 77,
   "id": "078a14df",
   "metadata": {},
   "outputs": [
    {
     "name": "stdout",
     "output_type": "stream",
     "text": [
      "   Degree  R2 Train    R2 Test      RMSE\n",
      "0     1.0  0.004956  -0.013958  0.491388\n",
      "1     2.0 -0.456953  -0.642840  0.625479\n",
      "2     3.0  0.235518   0.061159  0.472836\n",
      "3     4.0  0.389898  -0.613060  0.619784\n",
      "4     5.0  0.403943  -2.058993  0.853501\n",
      "5     6.0  0.381592  -5.205632  1.215648\n",
      "6     7.0  0.359175  -6.615777  1.346703\n",
      "7     8.0  0.274432 -11.829845  1.747936\n",
      "8     9.0  0.262678 -38.330942  3.060426\n",
      "Best degree: 3\n"
     ]
    }
   ],
   "source": [
    "# Finding the best degree to apply to the features\n",
    "best_degree = 0\n",
    "best_r2=0\n",
    "model = LinearRegression()\n",
    "degrees= []\n",
    "rmse_test_list = []\n",
    "r2_test_list = []\n",
    "r2_train_list = []\n",
    "best_r2_test = 0\n",
    "best_alpha = 0\n",
    "\n",
    "for degree in range(1, 10):   \n",
    "    poly_features = PolynomialFeatures(degree=degree)\n",
    "    degrees.append(degree)\n",
    "    \n",
    "    #apply polinomial over the sets\n",
    "    X_train_poly = poly_features.fit_transform(X_train)\n",
    "    X_test_poly = poly_features.transform(X_test)\n",
    "    \n",
    "    #train model\n",
    "    model.fit(X_train_poly, Y_train)\n",
    "    \n",
    "    #prediction\n",
    "    prediction = model.predict(X_test_poly)\n",
    "  \n",
    "    r2_train= model.score(X_train_poly, Y_train)\n",
    "    r2_train_list.append(r2_train)\n",
    "    \n",
    "    r2_test= model.score(X_test_poly, Y_test)\n",
    "    r2_test_list.append(r2_test)\n",
    "    \n",
    "    rmse_test = mean_squared_error(Y_test, prediction) ** 0.5\n",
    "    rmse_test_list.append(rmse_test)\n",
    "\n",
    "    if r2_test > best_r2:\n",
    "        best_r2= r2_test\n",
    "        best_degree = degree\n",
    "     \n",
    "     \n",
    "    \n",
    "poly_result = np.vstack((degrees, \\\n",
    "                         r2_train_list, \\\n",
    "                         r2_test_list, \\\n",
    "                         rmse_test_list)).T\n",
    "poly_df = pd.DataFrame(poly_result, \\\n",
    "                            columns=['Degree', 'R2 Train', 'R2 Test', 'RMSE'])\n",
    "\n",
    "print(poly_df)\n",
    "print(\"Best degree:\" , best_degree)"
   ]
  },
  {
   "cell_type": "code",
   "execution_count": 42,
   "id": "5f603441",
   "metadata": {},
   "outputs": [
    {
     "name": "stdout",
     "output_type": "stream",
     "text": [
      "R^2 train: 0.8647372741043855\n",
      "R^2 test: 0.8649778417153973\n",
      "RMSE test: 2630.939867081129\n",
      "\n"
     ]
    }
   ],
   "source": [
    "# Transfroming the original features into polynomial feautures\n",
    "\n",
    "poli_reg = PolynomialFeatures(degree = best_degree)\n",
    "\n",
    "X_train_poly = poli_reg.fit_transform(X_train)\n",
    "X_test_poly = poli_reg.transform(X_test)\n",
    "\n",
    "model.fit(X_train_poly, Y_train )\n",
    "prediction = model.predict(X_test_poly)\n",
    "\n",
    "r2_train= model.score(X_train_poly, Y_train)\n",
    "r2_test= model.score(X_test_poly, Y_test)\n",
    "rmse_test = mean_squared_error(Y_test, prediction) ** 0.5\n",
    "print(\"R^2 train:\", r2_train)\n",
    "print(\"R^2 test:\", r2_test)\n",
    "print(\"RMSE test:\", rmse_test)\n",
    "print()\n",
    "\n",
    "\n",
    "\n",
    "method.append('Polynomial')\n",
    "r2_list.append(r2_test)\n",
    "rmse_list.append(rmse_test)"
   ]
  },
  {
   "cell_type": "code",
   "execution_count": 78,
   "id": "3d79c5dd",
   "metadata": {},
   "outputs": [
    {
     "data": {
      "image/png": "[encoded data removed]",
      "text/plain": [
       "<Figure size 640x480 with 1 Axes>"
      ]
     },
     "metadata": {},
     "output_type": "display_data"
    }
   ],
   "source": [
    "actual_value = Y_test\n",
    "plt.scatter(predictions, actual_value, alpha=0.6)\n",
    "plt.xlabel(\"Predicted value\")\n",
    "plt.ylabel(\"Actual value\")\n",
    "plt.title(\"Polynomial Regression Model\")\n",
    "plt.show()"
   ]
  },
  {
   "cell_type": "code",
   "execution_count": 44,
   "id": "adbd7997",
   "metadata": {},
   "outputs": [
    {
     "data": {
      "text/html": [
       "<div>\n",
       "<style scoped>\n",
       "    .dataframe tbody tr th:only-of-type {\n",
       "        vertical-align: middle;\n",
       "    }\n",
       "\n",
       "    .dataframe tbody tr th {\n",
       "        vertical-align: top;\n",
       "    }\n",
       "\n",
       "    .dataframe thead th {\n",
       "        text-align: right;\n",
       "    }\n",
       "</style>\n",
       "<table border=\"1\" class=\"dataframe\">\n",
       "  <thead>\n",
       "    <tr style=\"text-align: right;\">\n",
       "      <th></th>\n",
       "      <th>Feature</th>\n",
       "      <th>Coefficients</th>\n",
       "    </tr>\n",
       "  </thead>\n",
       "  <tbody>\n",
       "    <tr>\n",
       "      <th>0</th>\n",
       "      <td>1</td>\n",
       "      <td>-0.000154</td>\n",
       "    </tr>\n",
       "    <tr>\n",
       "      <th>1</th>\n",
       "      <td>year</td>\n",
       "      <td>0.001903</td>\n",
       "    </tr>\n",
       "    <tr>\n",
       "      <th>2</th>\n",
       "      <td>mileage</td>\n",
       "      <td>0.000054</td>\n",
       "    </tr>\n",
       "    <tr>\n",
       "      <th>3</th>\n",
       "      <td>engine_size</td>\n",
       "      <td>-0.0</td>\n",
       "    </tr>\n",
       "    <tr>\n",
       "      <th>4</th>\n",
       "      <td>year^2</td>\n",
       "      <td>-0.000015</td>\n",
       "    </tr>\n",
       "    <tr>\n",
       "      <th>5</th>\n",
       "      <td>year mileage</td>\n",
       "      <td>0.00007</td>\n",
       "    </tr>\n",
       "    <tr>\n",
       "      <th>6</th>\n",
       "      <td>year engine_size</td>\n",
       "      <td>0.000001</td>\n",
       "    </tr>\n",
       "    <tr>\n",
       "      <th>7</th>\n",
       "      <td>mileage^2</td>\n",
       "      <td>0.000812</td>\n",
       "    </tr>\n",
       "    <tr>\n",
       "      <th>8</th>\n",
       "      <td>mileage engine_size</td>\n",
       "      <td>0.000005</td>\n",
       "    </tr>\n",
       "    <tr>\n",
       "      <th>9</th>\n",
       "      <td>engine_size^2</td>\n",
       "      <td>0.0</td>\n",
       "    </tr>\n",
       "    <tr>\n",
       "      <th>10</th>\n",
       "      <td>year^3</td>\n",
       "      <td>-0.022078</td>\n",
       "    </tr>\n",
       "    <tr>\n",
       "      <th>11</th>\n",
       "      <td>year^2 mileage</td>\n",
       "      <td>0.000055</td>\n",
       "    </tr>\n",
       "    <tr>\n",
       "      <th>12</th>\n",
       "      <td>year^2 engine_size</td>\n",
       "      <td>0.000658</td>\n",
       "    </tr>\n",
       "    <tr>\n",
       "      <th>13</th>\n",
       "      <td>year mileage^2</td>\n",
       "      <td>-0.000003</td>\n",
       "    </tr>\n",
       "    <tr>\n",
       "      <th>14</th>\n",
       "      <td>year mileage engine_size</td>\n",
       "      <td>0.004535</td>\n",
       "    </tr>\n",
       "    <tr>\n",
       "      <th>15</th>\n",
       "      <td>year engine_size^2</td>\n",
       "      <td>0.000002</td>\n",
       "    </tr>\n",
       "    <tr>\n",
       "      <th>16</th>\n",
       "      <td>mileage^3</td>\n",
       "      <td>0.0</td>\n",
       "    </tr>\n",
       "    <tr>\n",
       "      <th>17</th>\n",
       "      <td>mileage^2 engine_size</td>\n",
       "      <td>-0.000487</td>\n",
       "    </tr>\n",
       "    <tr>\n",
       "      <th>18</th>\n",
       "      <td>mileage engine_size^2</td>\n",
       "      <td>0.000009</td>\n",
       "    </tr>\n",
       "    <tr>\n",
       "      <th>19</th>\n",
       "      <td>engine_size^3</td>\n",
       "      <td>-0.000001</td>\n",
       "    </tr>\n",
       "    <tr>\n",
       "      <th>20</th>\n",
       "      <td>year^4</td>\n",
       "      <td>0.000008</td>\n",
       "    </tr>\n",
       "    <tr>\n",
       "      <th>21</th>\n",
       "      <td>year^3 mileage</td>\n",
       "      <td>-0.0</td>\n",
       "    </tr>\n",
       "    <tr>\n",
       "      <th>22</th>\n",
       "      <td>year^3 engine_size</td>\n",
       "      <td>-0.0</td>\n",
       "    </tr>\n",
       "    <tr>\n",
       "      <th>23</th>\n",
       "      <td>year^2 mileage^2</td>\n",
       "      <td>0.0</td>\n",
       "    </tr>\n",
       "    <tr>\n",
       "      <th>24</th>\n",
       "      <td>year^2 mileage engine_size</td>\n",
       "      <td>-0.000002</td>\n",
       "    </tr>\n",
       "    <tr>\n",
       "      <th>25</th>\n",
       "      <td>year^2 engine_size^2</td>\n",
       "      <td>0.000534</td>\n",
       "    </tr>\n",
       "    <tr>\n",
       "      <th>26</th>\n",
       "      <td>year mileage^3</td>\n",
       "      <td>-0.0</td>\n",
       "    </tr>\n",
       "    <tr>\n",
       "      <th>27</th>\n",
       "      <td>year mileage^2 engine_size</td>\n",
       "      <td>0.0</td>\n",
       "    </tr>\n",
       "    <tr>\n",
       "      <th>28</th>\n",
       "      <td>year mileage engine_size^2</td>\n",
       "      <td>0.000031</td>\n",
       "    </tr>\n",
       "    <tr>\n",
       "      <th>29</th>\n",
       "      <td>year engine_size^3</td>\n",
       "      <td>-0.001067</td>\n",
       "    </tr>\n",
       "    <tr>\n",
       "      <th>30</th>\n",
       "      <td>mileage^4</td>\n",
       "      <td>0.0</td>\n",
       "    </tr>\n",
       "    <tr>\n",
       "      <th>31</th>\n",
       "      <td>mileage^3 engine_size</td>\n",
       "      <td>0.0</td>\n",
       "    </tr>\n",
       "    <tr>\n",
       "      <th>32</th>\n",
       "      <td>mileage^2 engine_size^2</td>\n",
       "      <td>0.0</td>\n",
       "    </tr>\n",
       "    <tr>\n",
       "      <th>33</th>\n",
       "      <td>mileage engine_size^3</td>\n",
       "      <td>-0.009821</td>\n",
       "    </tr>\n",
       "    <tr>\n",
       "      <th>34</th>\n",
       "      <td>engine_size^4</td>\n",
       "      <td>-0.000005</td>\n",
       "    </tr>\n",
       "  </tbody>\n",
       "</table>\n",
       "</div>"
      ],
      "text/plain": [
       "                       Feature Coefficients\n",
       "0                            1    -0.000154\n",
       "1                         year     0.001903\n",
       "2                      mileage     0.000054\n",
       "3                  engine_size         -0.0\n",
       "4                       year^2    -0.000015\n",
       "5                 year mileage      0.00007\n",
       "6             year engine_size     0.000001\n",
       "7                    mileage^2     0.000812\n",
       "8          mileage engine_size     0.000005\n",
       "9                engine_size^2          0.0\n",
       "10                      year^3    -0.022078\n",
       "11              year^2 mileage     0.000055\n",
       "12          year^2 engine_size     0.000658\n",
       "13              year mileage^2    -0.000003\n",
       "14    year mileage engine_size     0.004535\n",
       "15          year engine_size^2     0.000002\n",
       "16                   mileage^3          0.0\n",
       "17       mileage^2 engine_size    -0.000487\n",
       "18       mileage engine_size^2     0.000009\n",
       "19               engine_size^3    -0.000001\n",
       "20                      year^4     0.000008\n",
       "21              year^3 mileage         -0.0\n",
       "22          year^3 engine_size         -0.0\n",
       "23            year^2 mileage^2          0.0\n",
       "24  year^2 mileage engine_size    -0.000002\n",
       "25        year^2 engine_size^2     0.000534\n",
       "26              year mileage^3         -0.0\n",
       "27  year mileage^2 engine_size          0.0\n",
       "28  year mileage engine_size^2     0.000031\n",
       "29          year engine_size^3    -0.001067\n",
       "30                   mileage^4          0.0\n",
       "31       mileage^3 engine_size          0.0\n",
       "32     mileage^2 engine_size^2          0.0\n",
       "33       mileage engine_size^3    -0.009821\n",
       "34               engine_size^4    -0.000005"
      ]
     },
     "execution_count": 44,
     "metadata": {},
     "output_type": "execute_result"
    }
   ],
   "source": [
    "feat = poli_reg.get_feature_names_out(input_features= X_train.columns)\n",
    "coef= model.coef_.transpose() \n",
    "coef_table= np.vstack((feat, coef)).T \n",
    "\n",
    "df_coef= pd.DataFrame(coef_table, columns= ['Feature', 'Coefficients'])\n",
    "df_coef"
   ]
  },
  {
   "cell_type": "markdown",
   "id": "32a1e991",
   "metadata": {},
   "source": [
    "### Comparing Results"
   ]
  },
  {
   "cell_type": "code",
   "execution_count": 80,
   "id": "c30153b9",
   "metadata": {},
   "outputs": [
    {
     "data": {
      "text/html": [
       "<div>\n",
       "<style scoped>\n",
       "    .dataframe tbody tr th:only-of-type {\n",
       "        vertical-align: middle;\n",
       "    }\n",
       "\n",
       "    .dataframe tbody tr th {\n",
       "        vertical-align: top;\n",
       "    }\n",
       "\n",
       "    .dataframe thead th {\n",
       "        text-align: right;\n",
       "    }\n",
       "</style>\n",
       "<table border=\"1\" class=\"dataframe\">\n",
       "  <thead>\n",
       "    <tr style=\"text-align: right;\">\n",
       "      <th></th>\n",
       "      <th>Method</th>\n",
       "      <th>R2</th>\n",
       "      <th>RMSE</th>\n",
       "    </tr>\n",
       "  </thead>\n",
       "  <tbody>\n",
       "    <tr>\n",
       "      <th>0</th>\n",
       "      <td>Simple</td>\n",
       "      <td>-0.013957578014663241</td>\n",
       "      <td>0.4913880883242273</td>\n",
       "    </tr>\n",
       "    <tr>\n",
       "      <th>1</th>\n",
       "      <td>Ridge</td>\n",
       "      <td>-0.013957578014662797</td>\n",
       "      <td>0.4913880883242272</td>\n",
       "    </tr>\n",
       "  </tbody>\n",
       "</table>\n",
       "</div>"
      ],
      "text/plain": [
       "   Method                     R2                RMSE\n",
       "0  Simple  -0.013957578014663241  0.4913880883242273\n",
       "1   Ridge  -0.013957578014662797  0.4913880883242272"
      ]
     },
     "execution_count": 80,
     "metadata": {},
     "output_type": "execute_result"
    }
   ],
   "source": [
    "results = np.vstack((method, r2_list, rmse_list)).T\n",
    "results_df = pd.DataFrame(results, columns=['Method', 'R2', 'RMSE'])\n",
    "results_df"
   ]
  }
 ],
 "metadata": {
  "kernelspec": {
   "display_name": "Python 3 (ipykernel)",
   "language": "python",
   "name": "python3"
  },
  "language_info": {
   "codemirror_mode": {
    "name": "ipython",
    "version": 3
   },
   "file_extension": ".py",
   "mimetype": "text/x-python",
   "name": "python",
   "nbconvert_exporter": "python",
   "pygments_lexer": "ipython3",
   "version": "3.11.5"
  }
 },
 "nbformat": 4,
 "nbformat_minor": 5
}
